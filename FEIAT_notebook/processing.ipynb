{
 "cells": [
  {
   "cell_type": "markdown",
   "metadata": {},
   "source": [
    "# Silent Cities : Exemple de traitement d'un fichier audio"
   ]
  },
  {
   "cell_type": "code",
   "execution_count": null,
   "metadata": {},
   "outputs": [],
   "source": [
    "import os\n",
    "import sys\n",
    "sys.path.insert(0, \"../\")\n",
    "\n",
    "import pandas as pd\n",
    "import numpy as np\n",
    "import torch\n",
    "import torchaudio\n",
    "from matplotlib import pyplot as plt\n",
    "import IPython\n",
    "import librosa\n",
    "from plotly import express as px\n",
    "\n",
    "from utils import librosa_display as ld\n",
    "from utils import utils\n",
    "\n",
    "from audioset_tagging_cnn.inference import audio_tagging"
   ]
  },
  {
   "cell_type": "markdown",
   "metadata": {},
   "source": [
    "## Chargement de la base de donnée"
   ]
  },
  {
   "cell_type": "code",
   "execution_count": null,
   "metadata": {},
   "outputs": [],
   "source": [
    "base_de_donnee = pd.read_csv('public_final_metadata_rest.csv')\n",
    "base_de_donnee"
   ]
  },
  {
   "cell_type": "code",
   "execution_count": null,
   "metadata": {},
   "outputs": [],
   "source": [
    "site =  1 # Choix du site pour la suite\n",
    "fichier_audio = '5E730358.WAV' # Nom d'un fichier audio"
   ]
  },
  {
   "cell_type": "markdown",
   "metadata": {},
   "source": [
    "## Extraction des méta données "
   ]
  },
  {
   "cell_type": "code",
   "execution_count": null,
   "metadata": {},
   "outputs": [],
   "source": [
    "_, meta = utils.read_audio_hdr(fichier_audio, False)\n",
    "print(f'''Méta donnée d'un fichier audio : {meta}''')"
   ]
  },
  {
   "cell_type": "markdown",
   "metadata": {},
   "source": [
    "## Chargement d'un fichier audio"
   ]
  },
  {
   "cell_type": "code",
   "execution_count": null,
   "metadata": {},
   "outputs": [],
   "source": [
    "audio, sr = torchaudio.load(fichier_audio)"
   ]
  },
  {
   "cell_type": "code",
   "execution_count": null,
   "metadata": {},
   "outputs": [],
   "source": [
    "print(f'Un fichier audio est composé de points en fonction du temps : {audio}')\n",
    "print(f'''et d'une fréquence d'echantillonnage {sr} Hz soit {sr} points par seconde.''')"
   ]
  },
  {
   "cell_type": "code",
   "execution_count": null,
   "metadata": {},
   "outputs": [],
   "source": [
    "audio_10sec = audio[0, :int(10*sr)] # Prenons les 10 premières secondes"
   ]
  },
  {
   "cell_type": "markdown",
   "metadata": {},
   "source": [
    "# Écoute et visualisation d'un fichier audio"
   ]
  },
  {
   "cell_type": "code",
   "execution_count": null,
   "metadata": {},
   "outputs": [],
   "source": [
    "IPython.display.Audio(fichier_audio)"
   ]
  },
  {
   "cell_type": "code",
   "execution_count": null,
   "metadata": {},
   "outputs": [],
   "source": [
    "plt.figure()\n",
    "plt.plot(torch.arange(int(10*sr))/sr, audio_10sec)\n",
    "plt.xlabel('temps (s)'); plt.ylabel('amplitude (-)'); plt.title('Représentation temporelle')\n",
    "plt.show()"
   ]
  },
  {
   "cell_type": "code",
   "execution_count": null,
   "metadata": {},
   "outputs": [],
   "source": [
    "# mel-spectrogramme\n",
    "Zxx = librosa.feature.melspectrogram(y=audio_10sec.numpy(), sr=sr, n_mels=256, fmax=20000)\n",
    "t, f, Zxx = ld.specshow(Zxx, sr = sr, fmax = 20000,y_axis='mel', x_axis='time', ref = np.max)"
   ]
  },
  {
   "cell_type": "code",
   "execution_count": null,
   "metadata": {},
   "outputs": [],
   "source": [
    "plt.figure(figsize = (10,4))\n",
    "plt.subplot(121)\n",
    "plt.pcolormesh(t, f, 10*np.log10(Zxx))\n",
    "plt.yscale('log'); plt.xlabel('temps (s)'); plt.ylabel('fréquence (Hz)')\n",
    "plt.colorbar(label='Énergie normalisé (dB)'); plt.title('Mel-spectrogramme')\n",
    "plt.ylim(100, 10000)\n",
    "\n",
    "plt.subplot(122)\n",
    "plt.pcolormesh(t, f, 10*np.log10(Zxx))\n",
    "plt.xlabel('temps (s)'); plt.ylabel('fréquence (Hz)'); plt.title('Mel-spectrogramme')\n",
    "plt.colorbar(label='Énergie (dB)')\n",
    "plt.ylim(100, 10000)\n",
    "plt.tight_layout()\n",
    "plt.show()\n",
    "# Vous préférez la quelle ?"
   ]
  },
  {
   "cell_type": "markdown",
   "metadata": {},
   "source": [
    "## Passage dans le réseau"
   ]
  },
  {
   "cell_type": "code",
   "execution_count": null,
   "metadata": {},
   "outputs": [],
   "source": [
    "checkpoint_path = 'ResNet22_mAP=0.430.pth'\n",
    "with torch.no_grad():\n",
    "    proba, labels, sorted_indexes, _ = audio_tagging(audio_10sec[None,:], checkpoint_path , usecuda=False)"
   ]
  },
  {
   "cell_type": "code",
   "execution_count": null,
   "metadata": {
    "scrolled": true
   },
   "outputs": [],
   "source": [
    "sortie_reseau = pd.DataFrame(columns = ['label', 'proba (%)'])\n",
    "sortie_reseau['label'] = labels\n",
    "sortie_reseau['proba (%)'] = proba[0,:]*100\n",
    "sortie_reseau"
   ]
  },
  {
   "cell_type": "markdown",
   "metadata": {},
   "source": [
    "## Visualisation de la sortie du réseau et des méta données associées"
   ]
  },
  {
   "cell_type": "code",
   "execution_count": null,
   "metadata": {},
   "outputs": [],
   "source": [
    "fig = px.scatter(sortie_reseau, x = 'label', y='proba (%)',# color='proba (%)',\n",
    "                 title = f'''Fichier : {fichier_audio},<br>\n",
    "                             Date et heure : {meta['date']} {meta['time']},<br>\n",
    "                             Pays : {base_de_donnee['country'][site]},\n",
    "                             Ville : {base_de_donnee['city'][site]},\n",
    "                             Numéro du site : {site}''')\n",
    "fig.show()"
   ]
  },
  {
   "cell_type": "code",
   "execution_count": null,
   "metadata": {},
   "outputs": [],
   "source": []
  }
 ],
 "metadata": {
  "interpreter": {
   "hash": "31f2aee4e71d21fbe5cf8b01ff0e069b9275f58929596ceb00d14d90e3e16cd6"
  },
  "kernelspec": {
   "display_name": "Python 3",
   "language": "python",
   "name": "python3"
  },
  "language_info": {
   "codemirror_mode": {
    "name": "ipython",
    "version": 3
   },
   "file_extension": ".py",
   "mimetype": "text/x-python",
   "name": "python",
   "nbconvert_exporter": "python",
   "pygments_lexer": "ipython3",
   "version": "3.9.6"
  }
 },
 "nbformat": 4,
 "nbformat_minor": 2
}
