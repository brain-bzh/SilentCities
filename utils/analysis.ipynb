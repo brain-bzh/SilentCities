{
 "cells": [
  {
   "cell_type": "code",
   "execution_count": 1,
   "metadata": {},
   "outputs": [],
   "source": [
    "import pandas as pd\n",
    "import os\n",
    "import numpy as np"
   ]
  },
  {
   "cell_type": "code",
   "execution_count": 16,
   "metadata": {},
   "outputs": [],
   "source": [
    "#Df = pd.read_csv('/home/nfarrugi/Documents/datasets/silentcities/public/final_OSF/metadata/Site_all.csv')\n",
    "Df = pd.read_csv('/home/nfarrugi/Documents/datasets/silentcities/public/final_OSF/metadata/previous/Site_all_duplicates_240513.csv')"
   ]
  },
  {
   "cell_type": "code",
   "execution_count": 3,
   "metadata": {},
   "outputs": [
    {
     "name": "stdout",
     "output_type": "stream",
     "text": [
      "Percentage of answered enclosure_type_for_AudioMoth: 41.29%\n",
      "Number of answered enclosure_type_for_AudioMoth: 147\n",
      "Number of unanswered enclosure_type_for_AudioMoth: 209\n",
      "Total number of sites: 356\n"
     ]
    }
   ],
   "source": [
    "## count how many NaNs are in the column enclosure_type_for_AudioMoth and put in % of the total\n",
    "nsites = len(Df['enclosure_type_for_AudioMoth'])\n",
    "noanswer = Df['enclosure_type_for_AudioMoth'].isna().sum()\n",
    "\n",
    "perc_answered = 100 - noanswer/nsites*100\n",
    "\n",
    "print(f\"Percentage of answered enclosure_type_for_AudioMoth: {perc_answered:.2f}%\")\n",
    "print(f\"Number of answered enclosure_type_for_AudioMoth: {nsites-noanswer}\")\n",
    "print(f\"Number of unanswered enclosure_type_for_AudioMoth: {noanswer}\")\n",
    "print(f\"Total number of sites: {nsites}\")"
   ]
  },
  {
   "cell_type": "code",
   "execution_count": 4,
   "metadata": {},
   "outputs": [
    {
     "name": "stdout",
     "output_type": "stream",
     "text": [
      "Number of different recorder types: 4\n",
      "Recorder types: ['Open Acoustic Devices AudioMoth' 'Wildlife Acoustics SM4' 'Other' nan]\n",
      "Number of sites with recorder type Open Acoustic Devices AudioMoth: 237\n",
      "Number of sites with recorder type Wildlife Acoustics SM4: 52\n",
      "Number of sites with recorder type Other: 66\n",
      "Number of sites with recorder type nan: 0\n"
     ]
    }
   ],
   "source": [
    "# count the number of recorder types\n",
    "\n",
    "recorder_types = Df['recorder_type'].unique()\n",
    "\n",
    "print(f\"Number of different recorder types: {len(recorder_types)}\")\n",
    "print(f\"Recorder types: {recorder_types}\")\n",
    "\n",
    "# report the number of sites for each recorder type\n",
    "\n",
    "for recorder in recorder_types:\n",
    "    nrecorder = len(Df[Df['recorder_type'] == recorder])\n",
    "    print(f\"Number of sites with recorder type {recorder}: {nrecorder}\")"
   ]
  },
  {
   "cell_type": "code",
   "execution_count": 5,
   "metadata": {},
   "outputs": [],
   "source": [
    "Df_goodsites = pd.read_csv('/home/nfarrugi/Documents/datasets/silentcities/public/final_OSF/metadata/previous/Site.csv')"
   ]
  },
  {
   "cell_type": "code",
   "execution_count": 6,
   "metadata": {},
   "outputs": [
    {
     "name": "stdout",
     "output_type": "stream",
     "text": [
      "Number of sites in the previous version of the dataset: 317\n",
      "Number of sites in the current version of the dataset: 356\n"
     ]
    }
   ],
   "source": [
    "print(f\"Number of sites in the previous version of the dataset: {len(Df_goodsites)}\")\n",
    "print(f\"Number of sites in the current version of the dataset: {len(Df)}\")"
   ]
  },
  {
   "cell_type": "code",
   "execution_count": 7,
   "metadata": {},
   "outputs": [],
   "source": [
    "import pandas as pd\n",
    "### keep the ones that have the less empty cells in the column enclosure_type_for_AudioMoth\n",
    "Df_dup = Df.sort_values(by='recorder_mic_type', ascending=False)\n",
    "Df_dup = Df.drop_duplicates(subset='partID', keep='first')"
   ]
  },
  {
   "cell_type": "code",
   "execution_count": 11,
   "metadata": {},
   "outputs": [],
   "source": [
    "Df_dup= Df_dup.sort_values(by='partID', ascending=True)"
   ]
  },
  {
   "cell_type": "code",
   "execution_count": 14,
   "metadata": {},
   "outputs": [],
   "source": [
    "Df_dup.to_csv('/home/nfarrugi/Documents/datasets/silentcities/public/final_OSF/metadata/Site_all.csv',index=False)"
   ]
  },
  {
   "cell_type": "code",
   "execution_count": null,
   "metadata": {},
   "outputs": [],
   "source": []
  }
 ],
 "metadata": {
  "kernelspec": {
   "display_name": "nico",
   "language": "python",
   "name": "python3"
  },
  "language_info": {
   "codemirror_mode": {
    "name": "ipython",
    "version": 3
   },
   "file_extension": ".py",
   "mimetype": "text/x-python",
   "name": "python",
   "nbconvert_exporter": "python",
   "pygments_lexer": "ipython3",
   "version": "3.11.4"
  }
 },
 "nbformat": 4,
 "nbformat_minor": 2
}
